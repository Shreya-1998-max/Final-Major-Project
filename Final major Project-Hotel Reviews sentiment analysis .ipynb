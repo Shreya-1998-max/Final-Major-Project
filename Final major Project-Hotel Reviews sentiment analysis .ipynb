{
  "cells": [
    {
      "cell_type": "code",
      "source": [
        "!pip -q install scikit-learn pandas numpy matplotlib wordcloud nltk joblib\n",
        "import nltk\n",
        "nltk.download('stopwords')"
      ],
      "metadata": {
        "colab": {
          "base_uri": "https://localhost:8080/",
          "height": 0
        },
        "id": "wjsFsySnt0Dk",
        "outputId": "521c53b5-3c90-4115-d3d1-14cecc35bda2"
      },
      "execution_count": 1,
      "outputs": [
        {
          "output_type": "stream",
          "name": "stderr",
          "text": [
            "[nltk_data] Downloading package stopwords to /root/nltk_data...\n",
            "[nltk_data]   Unzipping corpora/stopwords.zip.\n"
          ]
        },
        {
          "output_type": "execute_result",
          "data": {
            "text/plain": [
              "True"
            ]
          },
          "metadata": {},
          "execution_count": 1
        }
      ]
    },
    {
      "cell_type": "code",
      "source": [
        "import re, string, joblib\n",
        "import numpy as np\n",
        "import pandas as pd\n",
        "import matplotlib.pyplot as plt\n",
        "from sklearn.model_selection import train_test_split, GridSearchCV\n",
        "from sklearn.feature_extraction.text import TfidfVectorizer\n",
        "from sklearn.pipeline import Pipeline\n",
        "from sklearn.linear_model import LogisticRegression\n",
        "from sklearn.metrics import classification_report, confusion_matrix, ConfusionMatrixDisplay\n",
        "from nltk.corpus import stopwords\n",
        "\n",
        "\n",
        "STOPWORDS = set(stopwords.words('english'))\n",
        "\n",
        "\n",
        "def clean_text(s: str) -> str:\n",
        "s = str(s)\n",
        "s = s.lower()\n",
        "s = re.sub(r\"http\\S+|www\\S+\", \" \", s)\n",
        "s = re.sub(r\"@\\w+|#\\w+\", \" \", s)\n",
        "s = s.translate(str.maketrans('', '', string.punctuation))\n",
        "s = re.sub(r\"\\d+\", \" \", s)\n",
        "tokens = [w for w in s.split() if w not in STOPWORDS and len(w) > 2]\n",
        "return \" \".join(tokens)"
      ],
      "metadata": {
        "id": "hxBhBENMt2TE"
      },
      "execution_count": 5,
      "outputs": []
    },
    {
      "cell_type": "code",
      "source": [
        "path = '/content/Hotel_Reviews.csv' # TODO: change to your actual file\n",
        "\n",
        "\n",
        "df = pd.read_csv(path, on_bad_lines='skip')\n",
        "print(\"DataFrame loaded:\")\n",
        "print(df.head())\n",
        "print(df.columns.tolist())\n",
        "\n",
        "\n",
        "# --- Try to auto‑detect likely text & label columns ---\n",
        "possible_text = [c for c in df.columns if 'review' in c.lower() or 'text' in c.lower() or 'comment' in c.lower()]\n",
        "possible_label = [c for c in df.columns if 'sentiment' in c.lower() or 'label' in c.lower() or 'rating' in c.lower() or c.lower() in ['polarity']]\n",
        "print('Detected text candidates:', possible_text)\n",
        "print('Detected label candidates:', possible_label)\n",
        "\n",
        "\n",
        "# Manually set text and label columns based on investigation\n",
        "TEXT_COL_NEG = 'Negative_Review'\n",
        "TEXT_COL_POS = 'Positive_Review'\n",
        "LABEL_COL = 'Reviewer_Score'\n",
        "print(f\"Selected negative text column: {TEXT_COL_NEG}\")\n",
        "print(f\"Selected positive text column: {TEXT_COL_POS}\")\n",
        "print(f\"Selected label column: {LABEL_COL}\")\n",
        "\n",
        "# Drop neutral ratings (optional)\n",
        "initial_rows = len(df)\n",
        "if df[LABEL_COL].between(2.5, 3.5).any():\n",
        "    df = df[~df[LABEL_COL].between(2.5, 3.5)].copy() # Added .copy()\n",
        "print(f\"Rows after dropping neutral ratings (2.5-3.5): {len(df)} (Dropped {initial_rows - len(df)})\")\n",
        "\n",
        "\n",
        "# Create separate dataframes for negative and positive reviews\n",
        "df_neg = df[[TEXT_COL_NEG, LABEL_COL]].copy()\n",
        "df_pos = df[[TEXT_COL_POS, LABEL_COL]].copy()\n",
        "\n",
        "# Map ratings to binary labels for negative reviews (score < 4 is negative)\n",
        "df_neg['label'] = np.where(df_neg[LABEL_COL] < 4, 'negative', 'positive') # Corrected condition for negative reviews\n",
        "df_neg['text'] = df_neg[TEXT_COL_NEG].astype(str).apply(clean_text)\n",
        "df_neg = df_neg[['text', 'label']]\n",
        "\n",
        "# Map ratings to binary labels for positive reviews (score >= 4 is positive)\n",
        "df_pos['label'] = np.where(df_pos[LABEL_COL] >= 4, 'positive', 'negative') # Corrected condition for positive reviews\n",
        "df_pos['text'] = df_pos[TEXT_COL_POS].astype(str).apply(clean_text)\n",
        "df_pos = df_pos[['text', 'label']]\n",
        "\n",
        "# Combine negative and positive reviews\n",
        "df_combined = pd.concat([df_neg, df_pos], ignore_index=True)\n",
        "\n",
        "\n",
        "# Drop empties and filter for valid labels\n",
        "initial_rows_combined = len(df_combined)\n",
        "df_combined = df_combined[(df_combined['text'].str.strip()!='') & (df_combined['label'].isin(['positive','negative']))].dropna(subset=['text','label'])\n",
        "print(f\"Rows after dropping empty text or invalid labels: {len(df_combined)} (Dropped {initial_rows_combined - len(df_combined)})\")\n",
        "\n",
        "\n",
        "df = df_combined # Update df to the combined and filtered dataframe\n",
        "\n",
        "print(df.head())\n",
        "print('Class balance:\\n', df['label'].value_counts())"
      ],
      "metadata": {
        "colab": {
          "base_uri": "https://localhost:8080/",
          "height": 0
        },
        "id": "-0_JuQ7Dt_Sb",
        "outputId": "22253920-96b9-4aed-a2e3-3507f0fb3930"
      },
      "execution_count": 25,
      "outputs": [
        {
          "output_type": "stream",
          "name": "stdout",
          "text": [
            "DataFrame loaded:\n",
            "                                       Hotel_Address  \\\n",
            "0   s Gravesandestraat 55 Oost 1092 AA Amsterdam ...   \n",
            "1   s Gravesandestraat 55 Oost 1092 AA Amsterdam ...   \n",
            "2   s Gravesandestraat 55 Oost 1092 AA Amsterdam ...   \n",
            "3   s Gravesandestraat 55 Oost 1092 AA Amsterdam ...   \n",
            "4   s Gravesandestraat 55 Oost 1092 AA Amsterdam ...   \n",
            "\n",
            "   Additional_Number_of_Scoring Review_Date  Average_Score   Hotel_Name  \\\n",
            "0                           194    8/3/2017            7.7  Hotel Arena   \n",
            "1                           194    8/3/2017            7.7  Hotel Arena   \n",
            "2                           194   7/31/2017            7.7  Hotel Arena   \n",
            "3                           194   7/31/2017            7.7  Hotel Arena   \n",
            "4                           194   7/24/2017            7.7  Hotel Arena   \n",
            "\n",
            "  Reviewer_Nationality                                    Negative_Review  \\\n",
            "0              Russia    I am so angry that i made this post available...   \n",
            "1             Ireland                                         No Negative   \n",
            "2           Australia    Rooms are nice but for elderly a bit difficul...   \n",
            "3      United Kingdom    My room was dirty and I was afraid to walk ba...   \n",
            "4         New Zealand    You When I booked with your company on line y...   \n",
            "\n",
            "   Review_Total_Negative_Word_Counts  Total_Number_of_Reviews  \\\n",
            "0                                397                     1403   \n",
            "1                                  0                     1403   \n",
            "2                                 42                     1403   \n",
            "3                                210                     1403   \n",
            "4                                140                     1403   \n",
            "\n",
            "                                     Positive_Review  \\\n",
            "0   Only the park outside of the hotel was beauti...   \n",
            "1   No real complaints the hotel was great great ...   \n",
            "2   Location was good and staff were ok It is cut...   \n",
            "3   Great location in nice surroundings the bar a...   \n",
            "4    Amazing location and building Romantic setting    \n",
            "\n",
            "   Review_Total_Positive_Word_Counts  \\\n",
            "0                               11.0   \n",
            "1                              105.0   \n",
            "2                               21.0   \n",
            "3                               26.0   \n",
            "4                                8.0   \n",
            "\n",
            "   Total_Number_of_Reviews_Reviewer_Has_Given  Reviewer_Score  \\\n",
            "0                                         7.0             2.9   \n",
            "1                                         7.0             7.5   \n",
            "2                                         9.0             7.1   \n",
            "3                                         1.0             3.8   \n",
            "4                                         3.0             6.7   \n",
            "\n",
            "                                                Tags days_since_review  \\\n",
            "0  [' Leisure trip ', ' Couple ', ' Duplex Double...            0 days   \n",
            "1  [' Leisure trip ', ' Couple ', ' Duplex Double...            0 days   \n",
            "2  [' Leisure trip ', ' Family with young childre...            3 days   \n",
            "3  [' Leisure trip ', ' Solo traveler ', ' Duplex...            3 days   \n",
            "4  [' Leisure trip ', ' Couple ', ' Suite ', ' St...           10 days   \n",
            "\n",
            "         lat       lng  \n",
            "0  52.360576  4.915968  \n",
            "1  52.360576  4.915968  \n",
            "2  52.360576  4.915968  \n",
            "3  52.360576  4.915968  \n",
            "4  52.360576  4.915968  \n",
            "['Hotel_Address', 'Additional_Number_of_Scoring', 'Review_Date', 'Average_Score', 'Hotel_Name', 'Reviewer_Nationality', 'Negative_Review', 'Review_Total_Negative_Word_Counts', 'Total_Number_of_Reviews', 'Positive_Review', 'Review_Total_Positive_Word_Counts', 'Total_Number_of_Reviews_Reviewer_Has_Given', 'Reviewer_Score', 'Tags', 'days_since_review', 'lat', 'lng']\n",
            "Detected text candidates: ['Review_Date', 'Reviewer_Nationality', 'Negative_Review', 'Review_Total_Negative_Word_Counts', 'Total_Number_of_Reviews', 'Positive_Review', 'Review_Total_Positive_Word_Counts', 'Total_Number_of_Reviews_Reviewer_Has_Given', 'Reviewer_Score', 'days_since_review']\n",
            "Detected label candidates: []\n",
            "Selected negative text column: Negative_Review\n",
            "Selected positive text column: Positive_Review\n",
            "Selected label column: Reviewer_Score\n",
            "Rows after dropping neutral ratings (2.5-3.5): 102507 (Dropped 1403)\n",
            "Rows after dropping empty text or invalid labels: 204158 (Dropped 856)\n",
            "                                                text     label\n",
            "0                                           negative  positive\n",
            "1  rooms nice elderly bit difficult rooms two sto...  positive\n",
            "2  room dirty afraid walk barefoot floor looked c...  negative\n",
            "3  booked company line showed pictures room thoug...  positive\n",
            "4       backyard hotel total mess happen hotel stars  positive\n",
            "Class balance:\n",
            " label\n",
            "positive    202498\n",
            "negative      1660\n",
            "Name: count, dtype: int64\n"
          ]
        }
      ]
    },
    {
      "cell_type": "code",
      "source": [
        "X_train, X_temp, y_train, y_temp = train_test_split(\n",
        "df['text'], df['label'], test_size=0.2, random_state=42, stratify=df['label']\n",
        ")\n",
        "X_valid, X_test, y_valid, y_test = train_test_split(\n",
        "X_temp, y_temp, test_size=0.5, random_state=42, stratify=y_temp\n",
        ")\n",
        "len(X_train), len(X_valid), len(X_test)"
      ],
      "metadata": {
        "colab": {
          "base_uri": "https://localhost:8080/",
          "height": 0
        },
        "id": "dOJuqXSxvAOn",
        "outputId": "34abf28f-030d-4b57-b386-d3999dd9b969"
      },
      "execution_count": 26,
      "outputs": [
        {
          "output_type": "execute_result",
          "data": {
            "text/plain": [
              "(163326, 20416, 20416)"
            ]
          },
          "metadata": {},
          "execution_count": 26
        }
      ]
    },
    {
      "cell_type": "code",
      "source": [
        "# Baseline TF‑IDF + Logistic Regression\n",
        "pipe = Pipeline([\n",
        "('tfidf', TfidfVectorizer(ngram_range=(1,2), min_df=5, max_df=0.9)),\n",
        "('clf', LogisticRegression(max_iter=1000, class_weight='balanced', n_jobs=None))\n",
        "])\n",
        "\n",
        "\n",
        "pipe.fit(X_train, y_train)\n",
        "print('Validation performance:')\n",
        "print(classification_report(y_valid, pipe.predict(X_valid)))"
      ],
      "metadata": {
        "colab": {
          "base_uri": "https://localhost:8080/",
          "height": 0
        },
        "id": "qcJEgMf6yUiT",
        "outputId": "d0d0531e-3800-4299-f900-5e85d7cacb01"
      },
      "execution_count": 27,
      "outputs": [
        {
          "output_type": "stream",
          "name": "stdout",
          "text": [
            "Validation performance:\n",
            "              precision    recall  f1-score   support\n",
            "\n",
            "    negative       0.04      0.53      0.07       166\n",
            "    positive       1.00      0.88      0.94     20250\n",
            "\n",
            "    accuracy                           0.88     20416\n",
            "   macro avg       0.52      0.71      0.50     20416\n",
            "weighted avg       0.99      0.88      0.93     20416\n",
            "\n"
          ]
        }
      ]
    },
    {
      "cell_type": "code",
      "source": [
        "param_grid = {\n",
        "'tfidf__ngram_range': [(1,1), (1,2)],\n",
        "'tfidf__min_df': [2, 5],\n",
        "'tfidf__max_df': [0.85, 0.9, 0.95],\n",
        "'clf__C': [0.5, 1, 2, 4]\n",
        "}\n",
        "\n",
        "\n",
        "gs = GridSearchCV(pipe, param_grid, scoring='f1_macro', cv=3, n_jobs=-1, verbose=1)\n",
        "gs.fit(X_train, y_train)\n",
        "print('Best params:', gs.best_params_)\n",
        "print('Best CV F1:', gs.best_score_)\n",
        "\n",
        "\n",
        "best_model = gs.best_estimator_\n",
        "print('Validation metrics (best model):')\n",
        "print(classification_report(y_valid, best_model.predict(X_valid)))"
      ],
      "metadata": {
        "colab": {
          "base_uri": "https://localhost:8080/",
          "height": 0
        },
        "id": "4d2sv3UKwUKL",
        "outputId": "e270cd11-b6e3-40ae-a221-bbd0533967b6"
      },
      "execution_count": 30,
      "outputs": [
        {
          "output_type": "stream",
          "name": "stdout",
          "text": [
            "Fitting 3 folds for each of 48 candidates, totalling 144 fits\n",
            "Best params: {'clf__C': 1, 'tfidf__max_df': 0.85, 'tfidf__min_df': 2, 'tfidf__ngram_range': (1, 2)}\n",
            "Best CV F1: 0.4995458656551457\n",
            "Validation metrics (best model):\n",
            "              precision    recall  f1-score   support\n",
            "\n",
            "    negative       0.04      0.48      0.07       166\n",
            "    positive       1.00      0.89      0.94     20250\n",
            "\n",
            "    accuracy                           0.89     20416\n",
            "   macro avg       0.52      0.69      0.50     20416\n",
            "weighted avg       0.99      0.89      0.93     20416\n",
            "\n"
          ]
        }
      ]
    },
    {
      "cell_type": "code",
      "source": [
        "y_pred = best_model.predict(X_test)\n",
        "print(classification_report(y_test, y_pred))\n",
        "cm = confusion_matrix(y_test, y_pred, labels=['negative','positive'])\n",
        "ConfusionMatrixDisplay(cm, display_labels=['negative','positive']).plot()\n",
        "plt.title('Confusion Matrix — Test')\n",
        "plt.show()"
      ],
      "metadata": {
        "colab": {
          "base_uri": "https://localhost:8080/",
          "height": 635
        },
        "id": "w9BF1PST3IWy",
        "outputId": "88b8521d-fca1-45c1-ae84-0f0915c737d2"
      },
      "execution_count": 31,
      "outputs": [
        {
          "output_type": "stream",
          "name": "stdout",
          "text": [
            "              precision    recall  f1-score   support\n",
            "\n",
            "    negative       0.03      0.45      0.06       166\n",
            "    positive       0.99      0.89      0.94     20250\n",
            "\n",
            "    accuracy                           0.88     20416\n",
            "   macro avg       0.51      0.67      0.50     20416\n",
            "weighted avg       0.99      0.88      0.93     20416\n",
            "\n"
          ]
        },
        {
          "output_type": "display_data",
          "data": {
            "text/plain": [
              "<Figure size 640x480 with 2 Axes>"
            ],
            "image/png": "[encoded data removed]"
          },
          "metadata": {}
        }
      ]
    },
    {
      "cell_type": "code",
      "source": [
        "vec: TfidfVectorizer = best_model.named_steps['tfidf']\n",
        "clf: LogisticRegression = best_model.named_steps['clf']\n",
        "feature_names = np.array(vec.get_feature_names_out())\n",
        "coefs = clf.coef_[0]\n",
        "\n",
        "\n",
        "# Top 20 for each class\n",
        "n = 20\n",
        "top_pos = feature_names[np.argsort(coefs)[-n:][::-1]]\n",
        "top_neg = feature_names[np.argsort(coefs)[:n]]\n",
        "print('Top positive tokens:', top_pos)\n",
        "print('Top negative tokens:', top_neg)"
      ],
      "metadata": {
        "colab": {
          "base_uri": "https://localhost:8080/",
          "height": 0
        },
        "id": "mKZFEzKU3ITT",
        "outputId": "8e707481-ec00-442c-d293-9a15cb1ec383"
      },
      "execution_count": 32,
      "outputs": [
        {
          "output_type": "stream",
          "name": "stdout",
          "text": [
            "Top positive tokens: ['bit' 'excellent' 'amazing' 'perfect' 'little' 'great' 'helpful staff'\n",
            " 'fantastic' 'location friendly' 'clean room' 'staff good' 'nice staff'\n",
            " 'choice' 'wonderful' 'location staff' 'loved' 'comfortable'\n",
            " 'comfortable bed' 'modern' 'nice location']\n",
            "Top negative tokens: ['dirty' 'breakfast excellent' 'bar comfortable' 'rather expensive'\n",
            " 'building beautiful' 'price high' 'hot water' 'nice pillows'\n",
            " 'concierge helpful' 'anything liked' 'rat' 'staff lovely'\n",
            " 'special weekend' 'room quiet' 'office' 'space breakfast' 'great deal'\n",
            " 'small comfortable' 'bad' 'lot']\n"
          ]
        }
      ]
    },
    {
      "cell_type": "code",
      "source": [
        "joblib.dump(best_model, '/content/sentiment_pipeline.joblib')\n",
        "print('Saved to /content/sentiment_pipeline.joblib')"
      ],
      "metadata": {
        "colab": {
          "base_uri": "https://localhost:8080/",
          "height": 0
        },
        "id": "T-UGlO3T3IRC",
        "outputId": "bf84b1f6-2959-41de-8cc5-bae412074744"
      },
      "execution_count": 33,
      "outputs": [
        {
          "output_type": "stream",
          "name": "stdout",
          "text": [
            "Saved to /content/sentiment_pipeline.joblib\n"
          ]
        }
      ]
    },
    {
      "cell_type": "code",
      "source": [
        "# Quick Sanity Check (Inference)"
      ],
      "metadata": {
        "id": "gntGK3Au3Re1"
      },
      "execution_count": 35,
      "outputs": []
    },
    {
      "cell_type": "code",
      "source": [
        "loaded = joblib.load('/content/sentiment_pipeline.joblib')\n",
        "samples = [\n",
        "'The room was clean and the staff were incredibly friendly',\n",
        "'Worst stay ever — dirty sheets, broken AC, very noisy',\n",
        "]\n",
        "print(list(zip(samples, loaded.predict(samples))))"
      ],
      "metadata": {
        "colab": {
          "base_uri": "https://localhost:8080/",
          "height": 0
        },
        "id": "OH-_B63U3evQ",
        "outputId": "3e5fd9a7-33c3-443d-b778-eb8f65387963"
      },
      "execution_count": 36,
      "outputs": [
        {
          "output_type": "stream",
          "name": "stdout",
          "text": [
            "[('The room was clean and the staff were incredibly friendly', 'positive'), ('Worst stay ever — dirty sheets, broken AC, very noisy', 'negative')]\n"
          ]
        }
      ]
    },
    {
      "cell_type": "code",
      "source": [
        "#Mini Web App (Streamlit)"
      ],
      "metadata": {
        "id": "HL1_G5C33kJX"
      },
      "execution_count": 37,
      "outputs": []
    },
    {
      "cell_type": "code",
      "source": [
        "# app.py\n",
        "import joblib\n",
        "import streamlit as st\n",
        "\n",
        "\n",
        "st.set_page_config(page_title='Hotel Review Sentiment', page_icon='🏨')\n",
        "st.title('🏨 Hotel Review Sentiment Classifier')\n",
        "\n",
        "\n",
        "@st.cache_resource\n",
        "def load_model():\n",
        "    return joblib.load('sentiment_pipeline.joblib')\n",
        "\n",
        "\n",
        "model = load_model()\n",
        "review = st.text_area('Paste a hotel review:')\n",
        "if st.button('Predict') and review.strip():\n",
        "    pred = model.predict([review])[0]\n",
        "    prob = None\n",
        "    if hasattr(model.named_steps['clf'], 'predict_proba'):\n",
        "        prob = model.predict_proba([review])[0]\n",
        "    st.subheader(f'Prediction: {pred.upper()}')\n",
        "    if prob is not None:\n",
        "        st.write({ 'negative': float(prob[0]), 'positive': float(prob[1]) })"
      ],
      "metadata": {
        "colab": {
          "base_uri": "https://localhost:8080/",
          "height": 0
        },
        "id": "LaOOTalW3onE",
        "outputId": "e4e48c51-8615-4d7f-cf04-e947964f3c78"
      },
      "execution_count": 41,
      "outputs": [
        {
          "output_type": "stream",
          "name": "stderr",
          "text": [
            "2025-08-19 19:47:43.766 WARNING streamlit.runtime.scriptrunner_utils.script_run_context: Thread 'MainThread': missing ScriptRunContext! This warning can be ignored when running in bare mode.\n",
            "2025-08-19 19:47:43.779 WARNING streamlit.runtime.scriptrunner_utils.script_run_context: Thread 'MainThread': missing ScriptRunContext! This warning can be ignored when running in bare mode.\n",
            "2025-08-19 19:47:43.992 \n",
            "  \u001b[33m\u001b[1mWarning:\u001b[0m to view this Streamlit app on a browser, run it with the following\n",
            "  command:\n",
            "\n",
            "    streamlit run /usr/local/lib/python3.12/dist-packages/colab_kernel_launcher.py [ARGUMENTS]\n",
            "2025-08-19 19:47:43.993 Thread 'MainThread': missing ScriptRunContext! This warning can be ignored when running in bare mode.\n",
            "2025-08-19 19:47:43.994 Thread 'MainThread': missing ScriptRunContext! This warning can be ignored when running in bare mode.\n",
            "2025-08-19 19:47:43.996 Thread 'MainThread': missing ScriptRunContext! This warning can be ignored when running in bare mode.\n",
            "2025-08-19 19:47:43.999 Thread 'MainThread': missing ScriptRunContext! This warning can be ignored when running in bare mode.\n",
            "2025-08-19 19:47:44.000 Thread 'MainThread': missing ScriptRunContext! This warning can be ignored when running in bare mode.\n",
            "2025-08-19 19:47:44.002 Thread 'MainThread': missing ScriptRunContext! This warning can be ignored when running in bare mode.\n",
            "2025-08-19 19:47:44.516 Thread 'Thread-3': missing ScriptRunContext! This warning can be ignored when running in bare mode.\n",
            "2025-08-19 19:47:44.518 Thread 'Thread-3': missing ScriptRunContext! This warning can be ignored when running in bare mode.\n",
            "2025-08-19 19:47:44.519 Thread 'Thread-3': missing ScriptRunContext! This warning can be ignored when running in bare mode.\n",
            "2025-08-19 19:47:44.774 Thread 'MainThread': missing ScriptRunContext! This warning can be ignored when running in bare mode.\n",
            "2025-08-19 19:47:44.775 Thread 'MainThread': missing ScriptRunContext! This warning can be ignored when running in bare mode.\n",
            "2025-08-19 19:47:44.776 Thread 'MainThread': missing ScriptRunContext! This warning can be ignored when running in bare mode.\n",
            "2025-08-19 19:47:44.779 Thread 'MainThread': missing ScriptRunContext! This warning can be ignored when running in bare mode.\n",
            "2025-08-19 19:47:44.780 Thread 'MainThread': missing ScriptRunContext! This warning can be ignored when running in bare mode.\n",
            "2025-08-19 19:47:44.782 Thread 'MainThread': missing ScriptRunContext! This warning can be ignored when running in bare mode.\n",
            "2025-08-19 19:47:44.783 Thread 'MainThread': missing ScriptRunContext! This warning can be ignored when running in bare mode.\n",
            "2025-08-19 19:47:44.785 Session state does not function when running a script without `streamlit run`\n",
            "2025-08-19 19:47:44.786 Thread 'MainThread': missing ScriptRunContext! This warning can be ignored when running in bare mode.\n",
            "2025-08-19 19:47:44.787 Thread 'MainThread': missing ScriptRunContext! This warning can be ignored when running in bare mode.\n",
            "2025-08-19 19:47:44.795 Thread 'MainThread': missing ScriptRunContext! This warning can be ignored when running in bare mode.\n",
            "2025-08-19 19:47:44.800 Thread 'MainThread': missing ScriptRunContext! This warning can be ignored when running in bare mode.\n",
            "2025-08-19 19:47:44.804 Thread 'MainThread': missing ScriptRunContext! This warning can be ignored when running in bare mode.\n",
            "2025-08-19 19:47:44.807 Thread 'MainThread': missing ScriptRunContext! This warning can be ignored when running in bare mode.\n",
            "2025-08-19 19:47:44.808 Thread 'MainThread': missing ScriptRunContext! This warning can be ignored when running in bare mode.\n",
            "2025-08-19 19:47:44.811 Thread 'MainThread': missing ScriptRunContext! This warning can be ignored when running in bare mode.\n",
            "2025-08-19 19:47:44.816 Thread 'MainThread': missing ScriptRunContext! This warning can be ignored when running in bare mode.\n"
          ]
        }
      ]
    },
    {
      "cell_type": "code",
      "source": [],
      "metadata": {
        "id": "IXL1BcqA3qao"
      },
      "execution_count": null,
      "outputs": []
    },
    {
      "cell_type": "code",
      "metadata": {
        "colab": {
          "base_uri": "https://localhost:8080/",
          "height": 0
        },
        "id": "5d3bb860",
        "outputId": "e004c468-0233-4714-f217-b1fa6eaf06a8"
      },
      "source": [
        "!pip install streamlit -q"
      ],
      "execution_count": 40,
      "outputs": [
        {
          "output_type": "stream",
          "name": "stdout",
          "text": [
            "\u001b[2K     \u001b[90m━━━━━━━━━━━━━━━━━━━━━━━━━━━━━━━━━━━━━━━━\u001b[0m \u001b[32m44.3/44.3 kB\u001b[0m \u001b[31m2.5 MB/s\u001b[0m eta \u001b[36m0:00:00\u001b[0m\n",
            "\u001b[2K   \u001b[90m━━━━━━━━━━━━━━━━━━━━━━━━━━━━━━━━━━━━━━━━\u001b[0m \u001b[32m9.9/9.9 MB\u001b[0m \u001b[31m80.4 MB/s\u001b[0m eta \u001b[36m0:00:00\u001b[0m\n",
            "\u001b[2K   \u001b[90m━━━━━━━━━━━━━━━━━━━━━━━━━━━━━━━━━━━━━━━━\u001b[0m \u001b[32m6.9/6.9 MB\u001b[0m \u001b[31m112.6 MB/s\u001b[0m eta \u001b[36m0:00:00\u001b[0m\n",
            "\u001b[2K   \u001b[90m━━━━━━━━━━━━━━━━━━━━━━━━━━━━━━━━━━━━━━━━\u001b[0m \u001b[32m79.1/79.1 kB\u001b[0m \u001b[31m6.1 MB/s\u001b[0m eta \u001b[36m0:00:00\u001b[0m\n",
            "\u001b[?25h"
          ]
        }
      ]
    },
    {
      "cell_type": "code",
      "source": [
        "#Folder Structure (Suggested)\n",
        "#Project intro + dataset link.\n",
        "\n",
        "#How to run notebook.\n",
        "#How to save & load model.\n",
        "#How to run Streamlit app.\n",
        "#Results (test metrics screenshot + confusion matrix).\n",
        "#Limitations & future work."
      ],
      "metadata": {
        "id": "cqmVFwXp3-E8"
      },
      "execution_count": 42,
      "outputs": []
    },
    {
      "cell_type": "code",
      "source": [
        "#Time Plan (typical)"
      ],
      "metadata": {
        "id": "6WGiaiJx4Jip"
      },
      "execution_count": 43,
      "outputs": []
    },
    {
      "cell_type": "code",
      "source": [
        "##Day 1: Data import/cleaning, baseline model.\n",
        "##Day 2: Tuning, test evaluation, error analysis.\n",
        "##Day 3: Streamlit app + REA\n"
      ],
      "metadata": {
        "id": "xDYzV1eJ4QkT"
      },
      "execution_count": 44,
      "outputs": []
    },
    {
      "cell_type": "code",
      "source": [],
      "metadata": {
        "id": "6oiGVwtt4cI6"
      },
      "execution_count": null,
      "outputs": []
    }
  ],
  "metadata": {
    "colab": {
      "name": "Welcome To Colab",
      "provenance": []
    },
    "kernelspec": {
      "display_name": "Python 3",
      "name": "python3"
    }
  },
  "nbformat": 4,
  "nbformat_minor": 0
}